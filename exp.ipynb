{
 "cells": [
  {
   "cell_type": "code",
   "execution_count": 2,
   "metadata": {},
   "outputs": [],
   "source": [
    "import exp\n",
    "\n",
    "from custom_loss.TERM_CrossEntropyLoss import TERM_CrossEntropyLoss\n",
    "from custom_loss.Topk_CrossEntropyLoss import Topk_CrossEntropyLoss\n",
    "from custom_loss.Bottomk_CrossEntropyLoss import Bottomk_CrossEntropyLoss"
   ]
  },
  {
   "cell_type": "code",
   "execution_count": 3,
   "metadata": {},
   "outputs": [
    {
     "name": "stderr",
     "output_type": "stream",
     "text": [
      "c:\\Users\\tanab\\anaconda3\\lib\\site-packages\\torchvision\\datasets\\mnist.py:65: UserWarning: train_labels has been renamed targets\n",
      "  warnings.warn(\"train_labels has been renamed targets\")\n"
     ]
    },
    {
     "name": "stdout",
     "output_type": "stream",
     "text": [
      "Epoch: 1/10, Loss: 1.9934773763020834\n",
      "Epoch: 2/10, Loss: 1.91579833984375\n",
      "Epoch: 3/10, Loss: 1.8905812581380208\n",
      "Epoch: 4/10, Loss: 1.8735579427083333\n",
      "Epoch: 5/10, Loss: 1.8596832275390625\n",
      "Epoch: 6/10, Loss: 1.848360595703125\n",
      "Epoch: 7/10, Loss: 1.8382257080078126\n",
      "Epoch: 8/10, Loss: 1.8303485107421875\n",
      "Epoch: 9/10, Loss: 1.8233705647786458\n",
      "Epoch: 10/10, Loss: 1.8178289794921876\n",
      "Loss: 0.9518904876708985, Accuracy: 92.06% (9206/10000)\n"
     ]
    }
   ],
   "source": [
    "t = 0.1\n",
    "annotator = [0.1,0.9]\n",
    "criterion = TERM_CrossEntropyLoss(t)\n",
    "exp.run(criterion, annotator)"
   ]
  },
  {
   "cell_type": "code",
   "execution_count": null,
   "metadata": {},
   "outputs": [],
   "source": []
  }
 ],
 "metadata": {
  "kernelspec": {
   "display_name": "base",
   "language": "python",
   "name": "python3"
  },
  "language_info": {
   "codemirror_mode": {
    "name": "ipython",
    "version": 3
   },
   "file_extension": ".py",
   "mimetype": "text/x-python",
   "name": "python",
   "nbconvert_exporter": "python",
   "pygments_lexer": "ipython3",
   "version": "3.8.12"
  },
  "orig_nbformat": 4,
  "vscode": {
   "interpreter": {
    "hash": "4133f0edc41181248d6dbb7078570dadc6f7c45f1a950bc136256eac524dcb6d"
   }
  }
 },
 "nbformat": 4,
 "nbformat_minor": 2
}
