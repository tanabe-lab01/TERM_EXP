{
 "cells": [
  {
   "cell_type": "code",
   "execution_count": 1,
   "metadata": {},
   "outputs": [],
   "source": [
    "import TERM_experiment"
   ]
  },
  {
   "cell_type": "code",
   "execution_count": 2,
   "metadata": {},
   "outputs": [
    {
     "name": "stderr",
     "output_type": "stream",
     "text": [
      "c:\\Users\\tanab\\anaconda3\\lib\\site-packages\\torchvision\\datasets\\mnist.py:65: UserWarning: train_labels has been renamed targets\n",
      "  warnings.warn(\"train_labels has been renamed targets\")\n"
     ]
    },
    {
     "name": "stdout",
     "output_type": "stream",
     "text": [
      "Epoch: 1/10, Loss: 1.9580326334635416\n",
      "Epoch: 2/10, Loss: 1.8673573811848958\n",
      "Epoch: 3/10, Loss: 1.8411826578776043\n",
      "Epoch: 4/10, Loss: 1.8221175130208334\n",
      "Epoch: 5/10, Loss: 1.8090157063802084\n",
      "Epoch: 6/10, Loss: 1.7971091715494791\n",
      "Epoch: 7/10, Loss: 1.7878953043619792\n",
      "Epoch: 8/10, Loss: 1.7787432861328125\n",
      "Epoch: 9/10, Loss: 1.7713588460286458\n",
      "Epoch: 10/10, Loss: 1.7645705159505207\n",
      "Loss: 2.1317015075683594, Accuracy: 91.52% (9152/10000)\n"
     ]
    }
   ],
   "source": [
    "TERM_experiment.run(t = 0.1, annotator = [0.1,0.9])"
   ]
  },
  {
   "cell_type": "code",
   "execution_count": null,
   "metadata": {},
   "outputs": [],
   "source": []
  }
 ],
 "metadata": {
  "kernelspec": {
   "display_name": "base",
   "language": "python",
   "name": "python3"
  },
  "language_info": {
   "codemirror_mode": {
    "name": "ipython",
    "version": 3
   },
   "file_extension": ".py",
   "mimetype": "text/x-python",
   "name": "python",
   "nbconvert_exporter": "python",
   "pygments_lexer": "ipython3",
   "version": "3.9.7"
  },
  "orig_nbformat": 4,
  "vscode": {
   "interpreter": {
    "hash": "4133f0edc41181248d6dbb7078570dadc6f7c45f1a950bc136256eac524dcb6d"
   }
  }
 },
 "nbformat": 4,
 "nbformat_minor": 2
}
